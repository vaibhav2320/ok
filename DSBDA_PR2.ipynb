{
 "cells": [
  {
   "cell_type": "code",
   "execution_count": 3,
   "id": "bd2a99ed-b6f2-4bb6-b7fc-01cd467415ce",
   "metadata": {},
   "outputs": [],
   "source": [
    "import pandas as pd\n",
    "from sklearn import datasets"
   ]
  },
  {
   "cell_type": "code",
   "execution_count": 4,
   "id": "dea906de-6d60-4942-95b0-942c7b41542b",
   "metadata": {},
   "outputs": [
    {
     "name": "stdout",
     "output_type": "stream",
     "text": [
      "   AGE_GROUP  INCOME\n",
      "0      31-50     607\n",
      "1      31-50     280\n",
      "2      31-50       7\n",
      "3     51- 70     559\n",
      "4      18-30     521\n",
      "5      31-50     122\n",
      "6      31-50     304\n",
      "7      18-30     202\n",
      "8     51- 70     247\n",
      "9      18-30     229\n",
      "10     31-50     374\n",
      "11     31-50     625\n",
      "12    51- 70      80\n",
      "13     18-30     649\n",
      "14     31-50     339\n",
      "15     18-30     376\n",
      "16    51- 70     280\n",
      "17     31-50     670\n",
      "18     31-50     305\n",
      "19     18-30     376\n",
      "20     18-30     205\n",
      "21     31-50     525\n",
      "22    51- 70     720\n",
      "23     18-30     277\n",
      "24    51- 70      48\n",
      "25     31-50     381\n",
      "26     18-30     621\n",
      "27    51- 70     557\n",
      "28    51- 70     354\n",
      "29     18-30     481\n"
     ]
    }
   ],
   "source": [
    "df = pd.read_csv('PR3.csv')\n",
    "print(df.head(30),sep=\"\\n\")"
   ]
  },
  {
   "cell_type": "code",
   "execution_count": 5,
   "id": "c36439bd-b6ee-4c31-9adc-89ce87857dfe",
   "metadata": {},
   "outputs": [
    {
     "name": "stdout",
     "output_type": "stream",
     "text": [
      "['31-50' '51- 70' '18-30']\n"
     ]
    }
   ],
   "source": [
    "#unique values\n",
    "print(df.AGE_GROUP.unique())"
   ]
  },
  {
   "cell_type": "code",
   "execution_count": 6,
   "id": "b8dfc34d-c370-4f3c-8458-e3574d3f6f08",
   "metadata": {},
   "outputs": [
    {
     "name": "stdout",
     "output_type": "stream",
     "text": [
      "           INCOME\n",
      "AGE_GROUP        \n",
      "18-30          10\n",
      "31-50          12\n",
      "51- 70          8\n"
     ]
    }
   ],
   "source": [
    "#aggregate functions\n",
    "print(df.groupby(df.AGE_GROUP).count())"
   ]
  },
  {
   "cell_type": "code",
   "execution_count": 7,
   "id": "baf53e59-3211-4bee-a5e4-b2ac61978424",
   "metadata": {},
   "outputs": [
    {
     "name": "stdout",
     "output_type": "stream",
     "text": [
      "           INCOME\n",
      "AGE_GROUP        \n",
      "18-30         202\n",
      "31-50           7\n",
      "51- 70         48\n"
     ]
    }
   ],
   "source": [
    "print(df.groupby(df.AGE_GROUP).min())"
   ]
  },
  {
   "cell_type": "code",
   "execution_count": 8,
   "id": "82e8c920-ba5f-4fde-b4a2-12861bd84e2d",
   "metadata": {},
   "outputs": [
    {
     "name": "stdout",
     "output_type": "stream",
     "text": [
      "           INCOME\n",
      "AGE_GROUP        \n",
      "18-30         649\n",
      "31-50         670\n",
      "51- 70        720\n"
     ]
    }
   ],
   "source": [
    "print(df.groupby(df.AGE_GROUP).max())"
   ]
  },
  {
   "cell_type": "code",
   "execution_count": 9,
   "id": "99a6cb6f-a9b8-48d4-8791-cf25df77c812",
   "metadata": {},
   "outputs": [
    {
     "name": "stdout",
     "output_type": "stream",
     "text": [
      "            INCOME\n",
      "AGE_GROUP         \n",
      "18-30      393.700\n",
      "31-50      378.250\n",
      "51- 70     355.625\n"
     ]
    }
   ],
   "source": [
    "print(df.groupby(df.AGE_GROUP).mean())"
   ]
  },
  {
   "cell_type": "code",
   "execution_count": 10,
   "id": "84ef50c3-0d36-4447-9ae1-046699028f61",
   "metadata": {},
   "outputs": [
    {
     "name": "stdout",
     "output_type": "stream",
     "text": [
      "               INCOME\n",
      "AGE_GROUP            \n",
      "18-30      168.126308\n",
      "31-50      201.235784\n",
      "51- 70     239.882672\n"
     ]
    }
   ],
   "source": [
    "print(df.groupby(df.AGE_GROUP).std())"
   ]
  },
  {
   "cell_type": "code",
   "execution_count": 11,
   "id": "87289e10-ce44-4731-9b02-f4248cca28f2",
   "metadata": {},
   "outputs": [
    {
     "name": "stdout",
     "output_type": "stream",
     "text": [
      "          INCOME                                                         \n",
      "           count     mean         std    min     25%    50%    75%    max\n",
      "AGE_GROUP                                                                \n",
      "18-30       10.0  393.700  168.126308  202.0  241.00  376.0  511.0  649.0\n",
      "31-50       12.0  378.250  201.235784    7.0  298.00  356.5  545.5  670.0\n",
      "51- 70       8.0  355.625  239.882672   48.0  205.25  317.0  557.5  720.0\n"
     ]
    }
   ],
   "source": [
    "print(df.groupby(df.AGE_GROUP).describe())"
   ]
  },
  {
   "cell_type": "code",
   "execution_count": 12,
   "id": "89600b46-4cc8-4439-8435-1a8dd91d5bdb",
   "metadata": {},
   "outputs": [
    {
     "name": "stdout",
     "output_type": "stream",
     "text": [
      "   sepal length (cm)  sepal width (cm)  petal length (cm)  petal width (cm)   \n",
      "0                5.1               3.5                1.4               0.2  \\\n",
      "1                4.9               3.0                1.4               0.2   \n",
      "2                4.7               3.2                1.3               0.2   \n",
      "3                4.6               3.1                1.5               0.2   \n",
      "4                5.0               3.6                1.4               0.2   \n",
      "\n",
      "   species  \n",
      "0        0  \n",
      "1        0  \n",
      "2        0  \n",
      "3        0  \n",
      "4        0  \n"
     ]
    }
   ],
   "source": [
    "#iris\n",
    "data = datasets.load_iris() \n",
    "df = pd.DataFrame(data.data,columns=data.feature_names)\n",
    "df['species'] = pd.Series(data.target) \n",
    "print(df.head())"
   ]
  },
  {
   "cell_type": "code",
   "execution_count": 13,
   "id": "e10d3335-0abb-46ea-9a48-020f83493e95",
   "metadata": {},
   "outputs": [
    {
     "name": "stdout",
     "output_type": "stream",
     "text": [
      "[0 1 2]\n"
     ]
    }
   ],
   "source": [
    "print(df.species.unique())"
   ]
  },
  {
   "cell_type": "code",
   "execution_count": 14,
   "id": "e0b94c8d-23f0-4885-8e55-4f946e0ebe5f",
   "metadata": {},
   "outputs": [
    {
     "name": "stdout",
     "output_type": "stream",
     "text": [
      "<pandas.core.groupby.generic.DataFrameGroupBy object at 0x0000023AA4A32790>\n"
     ]
    }
   ],
   "source": [
    "print(df.groupby(df.species))"
   ]
  },
  {
   "cell_type": "code",
   "execution_count": 15,
   "id": "dcbfa79b-3e4b-432e-a96f-9f66e30669db",
   "metadata": {},
   "outputs": [
    {
     "name": "stdout",
     "output_type": "stream",
     "text": [
      "         sepal length (cm)  sepal width (cm)  petal length (cm)   \n",
      "species                                                           \n",
      "0                      5.8               4.4                1.9  \\\n",
      "1                      7.0               3.4                5.1   \n",
      "2                      7.9               3.8                6.9   \n",
      "\n",
      "         petal width (cm)  \n",
      "species                    \n",
      "0                     0.6  \n",
      "1                     1.8  \n",
      "2                     2.5  \n"
     ]
    }
   ],
   "source": [
    "print(df.groupby(df.species).max())"
   ]
  },
  {
   "cell_type": "code",
   "execution_count": 16,
   "id": "05fa1b17-bcfe-4ff4-a72e-6a8010b423d1",
   "metadata": {},
   "outputs": [
    {
     "name": "stdout",
     "output_type": "stream",
     "text": [
      "         sepal length (cm)  sepal width (cm)  petal length (cm)   \n",
      "species                                                           \n",
      "0                      4.3               2.3                1.0  \\\n",
      "1                      4.9               2.0                3.0   \n",
      "2                      4.9               2.2                4.5   \n",
      "\n",
      "         petal width (cm)  \n",
      "species                    \n",
      "0                     0.1  \n",
      "1                     1.0  \n",
      "2                     1.4  \n"
     ]
    }
   ],
   "source": [
    "print(df.groupby(df.species).min())"
   ]
  },
  {
   "cell_type": "code",
   "execution_count": 17,
   "id": "0e9a7e70-f691-4f5f-a486-65afdedc2a6e",
   "metadata": {},
   "outputs": [
    {
     "name": "stdout",
     "output_type": "stream",
     "text": [
      "         sepal length (cm)  sepal width (cm)  petal length (cm)   \n",
      "species                                                           \n",
      "0                    5.006             3.428              1.462  \\\n",
      "1                    5.936             2.770              4.260   \n",
      "2                    6.588             2.974              5.552   \n",
      "\n",
      "         petal width (cm)  \n",
      "species                    \n",
      "0                   0.246  \n",
      "1                   1.326  \n",
      "2                   2.026  \n"
     ]
    }
   ],
   "source": [
    "print(df.groupby(df.species).mean())"
   ]
  },
  {
   "cell_type": "code",
   "execution_count": 18,
   "id": "21c8b8c4-8ff2-4e68-80dd-feff6ff28eb3",
   "metadata": {},
   "outputs": [
    {
     "name": "stdout",
     "output_type": "stream",
     "text": [
      "         sepal length (cm)  sepal width (cm)  petal length (cm)   \n",
      "species                                                           \n",
      "0                 0.352490          0.379064           0.173664  \\\n",
      "1                 0.516171          0.313798           0.469911   \n",
      "2                 0.635880          0.322497           0.551895   \n",
      "\n",
      "         petal width (cm)  \n",
      "species                    \n",
      "0                0.105386  \n",
      "1                0.197753  \n",
      "2                0.274650  \n"
     ]
    }
   ],
   "source": [
    "print(df.groupby(df.species).std())"
   ]
  },
  {
   "cell_type": "code",
   "execution_count": 19,
   "id": "3ed05579-855e-416d-a156-965348eb0a73",
   "metadata": {},
   "outputs": [
    {
     "name": "stdout",
     "output_type": "stream",
     "text": [
      "         count   mean       std  min    25%  50%  75%  max\n",
      "species                                                   \n",
      "0         50.0  5.006  0.352490  4.3  4.800  5.0  5.2  5.8\n",
      "1         50.0  5.936  0.516171  4.9  5.600  5.9  6.3  7.0\n",
      "2         50.0  6.588  0.635880  4.9  6.225  6.5  6.9  7.9\n"
     ]
    }
   ],
   "source": [
    "print(df.groupby(df.species)[\"sepal length (cm)\"].describe())"
   ]
  },
  {
   "cell_type": "code",
   "execution_count": 20,
   "id": "45746114-13a6-4d34-93a7-0579f0350739",
   "metadata": {
    "tags": []
   },
   "outputs": [
    {
     "name": "stdout",
     "output_type": "stream",
     "text": [
      "         count   mean       std  min    25%  50%    75%  max\n",
      "species                                                     \n",
      "0         50.0  3.428  0.379064  2.3  3.200  3.4  3.675  4.4\n",
      "1         50.0  2.770  0.313798  2.0  2.525  2.8  3.000  3.4\n",
      "2         50.0  2.974  0.322497  2.2  2.800  3.0  3.175  3.8\n"
     ]
    }
   ],
   "source": [
    "print(df.groupby(df.species)[\"sepal width (cm)\"].describe())"
   ]
  }
 ],
 "metadata": {
  "kernelspec": {
   "display_name": "Python 3 (ipykernel)",
   "language": "python",
   "name": "python3"
  },
  "language_info": {
   "codemirror_mode": {
    "name": "ipython",
    "version": 3
   },
   "file_extension": ".py",
   "mimetype": "text/x-python",
   "name": "python",
   "nbconvert_exporter": "python",
   "pygments_lexer": "ipython3",
   "version": "3.11.3"
  }
 },
 "nbformat": 4,
 "nbformat_minor": 5
}
