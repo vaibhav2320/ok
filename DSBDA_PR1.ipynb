{
 "cells": [
  {
   "cell_type": "code",
   "execution_count": 1,
   "id": "688492de-3a2b-4392-a827-e8beed5ed948",
   "metadata": {},
   "outputs": [
    {
     "name": "stdout",
     "output_type": "stream",
     "text": [
      "   Id  SepalLengthCm  SepalWidthCm  PetalLengthCm  PetalWidthCm      Species\n",
      "0   1            5.1           3.5            1.4           0.2  Iris-setosa\n",
      "1   2            4.9           3.0            1.4           0.2  Iris-setosa\n",
      "2   3            4.7           3.2            1.3           0.2  Iris-setosa\n",
      "3   4            4.6           3.1            1.5           0.2  Iris-setosa\n",
      "4   5            5.0           3.6            1.4           0.2  Iris-setosa\n",
      "5   6            5.4           3.9            1.7           0.4  Iris-setosa\n",
      "6   7            4.6           3.4            1.4           0.3  Iris-setosa\n",
      "7   8            5.0           3.4            1.5           0.2  Iris-setosa\n",
      "8   9            4.4           2.9            1.4           0.2  Iris-setosa\n",
      "9  10            4.9           3.1            1.5           0.1  Iris-setosa\n"
     ]
    }
   ],
   "source": [
    "import pandas as pd\n",
    "from sklearn import preprocessing\n",
    "df = pd.read_csv('iris.csv')\n",
    "\n",
    "print(df.head(10))"
   ]
  },
  {
   "cell_type": "code",
   "execution_count": 2,
   "id": "ec05f6d1-b27a-4971-945e-81ff37add6ef",
   "metadata": {},
   "outputs": [
    {
     "name": "stdout",
     "output_type": "stream",
     "text": [
      "Id               0\n",
      "SepalLengthCm    0\n",
      "SepalWidthCm     0\n",
      "PetalLengthCm    0\n",
      "PetalWidthCm     0\n",
      "Species          0\n",
      "dtype: int64\n"
     ]
    }
   ],
   "source": [
    "print(df.isna().sum())"
   ]
  },
  {
   "cell_type": "code",
   "execution_count": 3,
   "id": "f92dc43c-b0bc-4f1f-88a0-5a63ba151598",
   "metadata": {},
   "outputs": [
    {
     "name": "stdout",
     "output_type": "stream",
     "text": [
      "Id                 int64\n",
      "SepalLengthCm    float64\n",
      "SepalWidthCm     float64\n",
      "PetalLengthCm    float64\n",
      "PetalWidthCm     float64\n",
      "Species           object\n",
      "dtype: object\n"
     ]
    }
   ],
   "source": [
    "print(df.dtypes)"
   ]
  },
  {
   "cell_type": "code",
   "execution_count": 4,
   "id": "5b972d19-07da-4783-8010-3cb8da5751c9",
   "metadata": {},
   "outputs": [
    {
     "name": "stdout",
     "output_type": "stream",
     "text": [
      "Id                 int64\n",
      "SepalLengthCm    float64\n",
      "SepalWidthCm     float64\n",
      "PetalLengthCm      int32\n",
      "PetalWidthCm     float64\n",
      "Species           object\n",
      "dtype: object\n"
     ]
    }
   ],
   "source": [
    "df['PetalLengthCm']= df['PetalLengthCm'].astype(\"int\")\n",
    "print(df.dtypes)"
   ]
  },
  {
   "cell_type": "code",
   "execution_count": 5,
   "id": "70781285-6418-43ca-8e63-16d219b9af33",
   "metadata": {},
   "outputs": [
    {
     "name": "stdout",
     "output_type": "stream",
     "text": [
      "          0\n",
      "0  0.222222\n",
      "1  0.166667\n",
      "2  0.111111\n",
      "3  0.083333\n",
      "4  0.194444\n",
      "5  0.305556\n",
      "6  0.083333\n",
      "7  0.194444\n",
      "8  0.027778\n",
      "9  0.166667\n"
     ]
    }
   ],
   "source": [
    "x = df[['SepalLengthCm']].values.astype(float)\n",
    "min_max_scaler = preprocessing.MinMaxScaler()\n",
    "x_scaled = min_max_scaler.fit_transform(x)\n",
    "df_normalized = pd.DataFrame(x_scaled)\n",
    "print(df_normalized.head(10))"
   ]
  },
  {
   "cell_type": "code",
   "execution_count": 6,
   "id": "b88362d0-eda9-46dd-95f5-52dc5cd62236",
   "metadata": {},
   "outputs": [
    {
     "name": "stdout",
     "output_type": "stream",
     "text": [
      "['Iris-setosa' 'Iris-versicolor' 'Iris-virginica']\n"
     ]
    }
   ],
   "source": [
    "print(df['Species'].unique())"
   ]
  },
  {
   "cell_type": "code",
   "execution_count": 7,
   "id": "e9518108-711c-45bb-bb6c-6917a20cfd1f",
   "metadata": {},
   "outputs": [
    {
     "name": "stdout",
     "output_type": "stream",
     "text": [
      "      Id  SepalLengthCm  SepalWidthCm  PetalLengthCm  PetalWidthCm  Species\n",
      "0      1            5.1           3.5              1           0.2        0\n",
      "1      2            4.9           3.0              1           0.2        0\n",
      "2      3            4.7           3.2              1           0.2        0\n",
      "3      4            4.6           3.1              1           0.2        0\n",
      "4      5            5.0           3.6              1           0.2        0\n",
      "..   ...            ...           ...            ...           ...      ...\n",
      "145  146            6.7           3.0              5           2.3        2\n",
      "146  147            6.3           2.5              5           1.9        2\n",
      "147  148            6.5           3.0              5           2.0        2\n",
      "148  149            6.2           3.4              5           2.3        2\n",
      "149  150            5.9           3.0              5           1.8        2\n",
      "\n",
      "[150 rows x 6 columns]\n",
      "[0 1 2]\n"
     ]
    }
   ],
   "source": [
    "label_encoder = preprocessing.LabelEncoder()\n",
    "df['Species']= label_encoder.fit_transform(df['Species'])\n",
    "print(df)\n",
    "print(df['Species'].unique())"
   ]
  },
  {
   "cell_type": "code",
   "execution_count": 8,
   "id": "10f8a27f-9c1b-4479-8352-472f517fcf49",
   "metadata": {},
   "outputs": [
    {
     "name": "stdout",
     "output_type": "stream",
     "text": [
      "      Id  SepalLengthCm  SepalWidthCm  PetalLengthCm  PetalWidthCm   \n",
      "110  111            6.5           3.2              5           2.0  \\\n",
      "111  112            6.4           2.7              5           1.9   \n",
      "112  113            6.8           3.0              5           2.1   \n",
      "113  114            5.7           2.5              5           2.0   \n",
      "114  115            5.8           2.8              5           2.4   \n",
      "115  116            6.4           3.2              5           2.3   \n",
      "116  117            6.5           3.0              5           1.8   \n",
      "117  118            7.7           3.8              6           2.2   \n",
      "118  119            7.7           2.6              6           2.3   \n",
      "119  120            6.0           2.2              5           1.5   \n",
      "120  121            6.9           3.2              5           2.3   \n",
      "121  122            5.6           2.8              4           2.0   \n",
      "122  123            7.7           2.8              6           2.0   \n",
      "123  124            6.3           2.7              4           1.8   \n",
      "124  125            6.7           3.3              5           2.1   \n",
      "125  126            7.2           3.2              6           1.8   \n",
      "126  127            6.2           2.8              4           1.8   \n",
      "127  128            6.1           3.0              4           1.8   \n",
      "128  129            6.4           2.8              5           2.1   \n",
      "129  130            7.2           3.0              5           1.6   \n",
      "130  131            7.4           2.8              6           1.9   \n",
      "131  132            7.9           3.8              6           2.0   \n",
      "132  133            6.4           2.8              5           2.2   \n",
      "133  134            6.3           2.8              5           1.5   \n",
      "134  135            6.1           2.6              5           1.4   \n",
      "135  136            7.7           3.0              6           2.3   \n",
      "136  137            6.3           3.4              5           2.4   \n",
      "137  138            6.4           3.1              5           1.8   \n",
      "138  139            6.0           3.0              4           1.8   \n",
      "139  140            6.9           3.1              5           2.1   \n",
      "140  141            6.7           3.1              5           2.4   \n",
      "141  142            6.9           3.1              5           2.3   \n",
      "142  143            5.8           2.7              5           1.9   \n",
      "143  144            6.8           3.2              5           2.3   \n",
      "144  145            6.7           3.3              5           2.5   \n",
      "145  146            6.7           3.0              5           2.3   \n",
      "146  147            6.3           2.5              5           1.9   \n",
      "147  148            6.5           3.0              5           2.0   \n",
      "148  149            6.2           3.4              5           2.3   \n",
      "149  150            5.9           3.0              5           1.8   \n",
      "\n",
      "       Iris-Setosa  \n",
      "110    (0, 2)\\t1.0  \n",
      "111    (0, 2)\\t1.0  \n",
      "112    (0, 2)\\t1.0  \n",
      "113    (0, 2)\\t1.0  \n",
      "114    (0, 2)\\t1.0  \n",
      "115    (0, 2)\\t1.0  \n",
      "116    (0, 2)\\t1.0  \n",
      "117    (0, 2)\\t1.0  \n",
      "118    (0, 2)\\t1.0  \n",
      "119    (0, 2)\\t1.0  \n",
      "120    (0, 2)\\t1.0  \n",
      "121    (0, 2)\\t1.0  \n",
      "122    (0, 2)\\t1.0  \n",
      "123    (0, 2)\\t1.0  \n",
      "124    (0, 2)\\t1.0  \n",
      "125    (0, 2)\\t1.0  \n",
      "126    (0, 2)\\t1.0  \n",
      "127    (0, 2)\\t1.0  \n",
      "128    (0, 2)\\t1.0  \n",
      "129    (0, 2)\\t1.0  \n",
      "130    (0, 2)\\t1.0  \n",
      "131    (0, 2)\\t1.0  \n",
      "132    (0, 2)\\t1.0  \n",
      "133    (0, 2)\\t1.0  \n",
      "134    (0, 2)\\t1.0  \n",
      "135    (0, 2)\\t1.0  \n",
      "136    (0, 2)\\t1.0  \n",
      "137    (0, 2)\\t1.0  \n",
      "138    (0, 2)\\t1.0  \n",
      "139    (0, 2)\\t1.0  \n",
      "140    (0, 2)\\t1.0  \n",
      "141    (0, 2)\\t1.0  \n",
      "142    (0, 2)\\t1.0  \n",
      "143    (0, 2)\\t1.0  \n",
      "144    (0, 2)\\t1.0  \n",
      "145    (0, 2)\\t1.0  \n",
      "146    (0, 2)\\t1.0  \n",
      "147    (0, 2)\\t1.0  \n",
      "148    (0, 2)\\t1.0  \n",
      "149    (0, 2)\\t1.0  \n"
     ]
    }
   ],
   "source": [
    "features_df=df.drop(columns=['Species'])\n",
    "enc = preprocessing.OneHotEncoder()\n",
    "enc_df=pd.DataFrame(enc.fit_transform(df[['Species']]))\n",
    "df_encode = features_df.join(enc_df)\n",
    "df_encode.rename(columns = {0:'Iris-Setosa',\n",
    "1:'Iris-Versicolor',2:'Iris-virginica'}, inplace = True)\n",
    "print(df_encode.tail(40))"
   ]
  },
  {
   "cell_type": "code",
   "execution_count": 9,
   "id": "7e838a6f-6046-46f2-95e6-f24c09a1ba9c",
   "metadata": {
    "tags": []
   },
   "outputs": [
    {
     "name": "stdout",
     "output_type": "stream",
     "text": [
      "    Id  SepalLengthCm  SepalWidthCm  PetalLengthCm  PetalWidthCm  Species_0   \n",
      "0    1            5.1           3.5              1           0.2       True  \\\n",
      "1    2            4.9           3.0              1           0.2       True   \n",
      "2    3            4.7           3.2              1           0.2       True   \n",
      "3    4            4.6           3.1              1           0.2       True   \n",
      "4    5            5.0           3.6              1           0.2       True   \n",
      "5    6            5.4           3.9              1           0.4       True   \n",
      "6    7            4.6           3.4              1           0.3       True   \n",
      "7    8            5.0           3.4              1           0.2       True   \n",
      "8    9            4.4           2.9              1           0.2       True   \n",
      "9   10            4.9           3.1              1           0.1       True   \n",
      "10  11            5.4           3.7              1           0.2       True   \n",
      "11  12            4.8           3.4              1           0.2       True   \n",
      "12  13            4.8           3.0              1           0.1       True   \n",
      "13  14            4.3           3.0              1           0.1       True   \n",
      "14  15            5.8           4.0              1           0.2       True   \n",
      "15  16            5.7           4.4              1           0.4       True   \n",
      "16  17            5.4           3.9              1           0.4       True   \n",
      "17  18            5.1           3.5              1           0.3       True   \n",
      "18  19            5.7           3.8              1           0.3       True   \n",
      "19  20            5.1           3.8              1           0.3       True   \n",
      "\n",
      "    Species_1  Species_2  \n",
      "0       False      False  \n",
      "1       False      False  \n",
      "2       False      False  \n",
      "3       False      False  \n",
      "4       False      False  \n",
      "5       False      False  \n",
      "6       False      False  \n",
      "7       False      False  \n",
      "8       False      False  \n",
      "9       False      False  \n",
      "10      False      False  \n",
      "11      False      False  \n",
      "12      False      False  \n",
      "13      False      False  \n",
      "14      False      False  \n",
      "15      False      False  \n",
      "16      False      False  \n",
      "17      False      False  \n",
      "18      False      False  \n",
      "19      False      False         Id  SepalLengthCm  SepalWidthCm  PetalLengthCm  PetalWidthCm  Species_0   \n",
      "130  131            7.4           2.8              6           1.9      False  \\\n",
      "131  132            7.9           3.8              6           2.0      False   \n",
      "132  133            6.4           2.8              5           2.2      False   \n",
      "133  134            6.3           2.8              5           1.5      False   \n",
      "134  135            6.1           2.6              5           1.4      False   \n",
      "135  136            7.7           3.0              6           2.3      False   \n",
      "136  137            6.3           3.4              5           2.4      False   \n",
      "137  138            6.4           3.1              5           1.8      False   \n",
      "138  139            6.0           3.0              4           1.8      False   \n",
      "139  140            6.9           3.1              5           2.1      False   \n",
      "140  141            6.7           3.1              5           2.4      False   \n",
      "141  142            6.9           3.1              5           2.3      False   \n",
      "142  143            5.8           2.7              5           1.9      False   \n",
      "143  144            6.8           3.2              5           2.3      False   \n",
      "144  145            6.7           3.3              5           2.5      False   \n",
      "145  146            6.7           3.0              5           2.3      False   \n",
      "146  147            6.3           2.5              5           1.9      False   \n",
      "147  148            6.5           3.0              5           2.0      False   \n",
      "148  149            6.2           3.4              5           2.3      False   \n",
      "149  150            5.9           3.0              5           1.8      False   \n",
      "\n",
      "     Species_1  Species_2  \n",
      "130      False       True  \n",
      "131      False       True  \n",
      "132      False       True  \n",
      "133      False       True  \n",
      "134      False       True  \n",
      "135      False       True  \n",
      "136      False       True  \n",
      "137      False       True  \n",
      "138      False       True  \n",
      "139      False       True  \n",
      "140      False       True  \n",
      "141      False       True  \n",
      "142      False       True  \n",
      "143      False       True  \n",
      "144      False       True  \n",
      "145      False       True  \n",
      "146      False       True  \n",
      "147      False       True  \n",
      "148      False       True  \n",
      "149      False       True  \n"
     ]
    }
   ],
   "source": [
    "one_hot_df = pd.get_dummies(df, prefix=\"Species\",\n",
    "columns=['Species'], drop_first=False)\n",
    "print(one_hot_df.head(20),one_hot_df.tail(20))"
   ]
  }
 ],
 "metadata": {
  "kernelspec": {
   "display_name": "Python 3 (ipykernel)",
   "language": "python",
   "name": "python3"
  },
  "language_info": {
   "codemirror_mode": {
    "name": "ipython",
    "version": 3
   },
   "file_extension": ".py",
   "mimetype": "text/x-python",
   "name": "python",
   "nbconvert_exporter": "python",
   "pygments_lexer": "ipython3",
   "version": "3.11.3"
  }
 },
 "nbformat": 4,
 "nbformat_minor": 5
}
